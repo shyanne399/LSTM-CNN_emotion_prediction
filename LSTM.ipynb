{
  "nbformat": 4,
  "nbformat_minor": 0,
  "metadata": {
    "colab": {
      "provenance": [],
      "machine_shape": "hm"
    },
    "kernelspec": {
      "name": "python3",
      "display_name": "Python 3"
    },
    "language_info": {
      "name": "python"
    },
    "accelerator": "GPU",
    "gpuClass": "premium"
  },
  "cells": [
    {
      "cell_type": "code",
      "execution_count": 1,
      "metadata": {
        "id": "HiScZGsRcPBK",
        "colab": {
          "base_uri": "https://localhost:8080/"
        },
        "outputId": "fd86bfb9-3fbf-4b77-9e46-de334c87cde0"
      },
      "outputs": [
        {
          "output_type": "stream",
          "name": "stdout",
          "text": [
            "Mounted at /content/drive\n"
          ]
        }
      ],
      "source": [
        "import pandas as pd\n",
        "import numpy as np\n",
        "import matplotlib.pyplot as plt\n",
        "import seaborn as sns\n",
        "\n",
        "from sklearn.model_selection import train_test_split\n",
        "from sklearn.neural_network import MLPClassifier\n",
        "from sklearn.metrics import accuracy_score\n",
        "from sklearn.preprocessing import StandardScaler\n",
        "from sklearn.preprocessing import OneHotEncoder\n",
        "from sklearn.metrics import confusion_matrix, classification_report,f1_score, balanced_accuracy_score\n",
        "\n",
        "from keras.engine import input_spec\n",
        "from keras.models import Sequential\n",
        "from keras.layers import Dense, LSTM, Dropout\n",
        "import tensorflow as tf\n",
        "\n",
        "from glob import glob\n",
        "\n",
        "import librosa\n",
        "import librosa.display\n",
        "import soundfile\n",
        "import IPython.display as ipd\n",
        "\n",
        "from itertools import cycle\n",
        "sns.set_theme(style = 'white', palette = None)\n",
        "color_pal = plt.rcParams['axes.prop_cycle'].by_key()['color']\n",
        "color_cycle = cycle(plt.rcParams['axes.prop_cycle'].by_key()['color'])\n",
        "\n",
        "import warnings\n",
        "warnings.filterwarnings('ignore')\n",
        "\n",
        "from google.colab import drive\n",
        "drive.mount('/content/drive')"
      ]
    },
    {
      "cell_type": "code",
      "source": [
        "import torch\n",
        "import torchaudio\n",
        "import torchaudio.functional as F\n",
        "import torchaudio.transforms as T"
      ],
      "metadata": {
        "id": "-a7tdjCoN5L-"
      },
      "execution_count": 2,
      "outputs": []
    },
    {
      "cell_type": "markdown",
      "source": [
        "# First\n",
        "\n",
        "Load data from drive."
      ],
      "metadata": {
        "id": "jVeU5uLMKOpg"
      }
    },
    {
      "cell_type": "markdown",
      "source": [
        "Problem1:\n",
        "\n",
        "My dataset contains two datasets, one is TESS, another is RAVDESS. "
      ],
      "metadata": {
        "id": "BBFRRKSahxdp"
      }
    },
    {
      "cell_type": "code",
      "source": [
        "raw_data_1 = open('/content/drive/MyDrive/603 project/Toronto emotional speech set (TESS).zip')\n",
        "!unzip '/content/drive/MyDrive/603 project/Toronto emotional speech set (TESS).zip'\n",
        "raw_audio_1 = glob('/content/TESS Toronto emotional speech set data/*/*.wav')"
      ],
      "metadata": {
        "id": "k3MvxW-GdFAW"
      },
      "execution_count": null,
      "outputs": []
    },
    {
      "cell_type": "code",
      "source": [
        "raw_data_2 = open('/content/drive/MyDrive/603 project/RAVDESS Emotional speech audio.zip')\n",
        "!unzip '/content/drive/MyDrive/603 project/RAVDESS Emotional speech audio.zip'\n",
        "raw_audio_2 = glob('/content/*/*.wav')"
      ],
      "metadata": {
        "id": "sBX2OtRZ1NlN"
      },
      "execution_count": null,
      "outputs": []
    },
    {
      "cell_type": "code",
      "source": [
        "raw_data_3 = open('/content/drive/MyDrive/603 project/archive.zip')\n",
        "!unzip '/content/drive/MyDrive/603 project/archive.zip'\n",
        "raw_audio_3 = glob('/content/AudioWAV/*.wav')"
      ],
      "metadata": {
        "id": "79ik89tahXwk"
      },
      "execution_count": null,
      "outputs": []
    },
    {
      "cell_type": "markdown",
      "source": [
        "Problem2:\n",
        "\n",
        "1)Get label values by name of every file."
      ],
      "metadata": {
        "id": "vz-zLDCElGcw"
      }
    },
    {
      "cell_type": "code",
      "source": [
        "emotions ={\n",
        "    'fear': 'Fearful',\n",
        "    'ps': 'Pleasant_Surprise',\n",
        "    'sad': 'Sad',\n",
        "    'angry': 'Angry',\n",
        "    'disgust': 'Disgust',\n",
        "    'happy':'Happy',\n",
        "    'neutral':'Neutral',\n",
        "    '01':'Neutral',\n",
        "    # '02':'calm',\n",
        "    '03':'Happy',\n",
        "    '04':'Sad',\n",
        "    '05':'Angry',\n",
        "    '06':'Fearful',\n",
        "    '07':'Disgust',\n",
        "    '08':'Pleasant_Surprise',\n",
        "    'ANG':'Angry',\n",
        "    'DIS':'Disgust',\n",
        "    'FEA':'Fearful',\n",
        "    'HAP':'Happy',\n",
        "    'NEU':'Neutral',\n",
        "    'SAD':'Sad',\n",
        "}"
      ],
      "metadata": {
        "id": "3OEw1pzeeU5w"
      },
      "execution_count": 6,
      "outputs": []
    },
    {
      "cell_type": "code",
      "source": [
        "def getLabel(label1,label2,label3):\n",
        "  emotion1 = label1[-11:-4]\n",
        "  emotion2 = label2[24:26]\n",
        "  emotion3 = label3[27:30]\n",
        "  for key, value in emotions.items():\n",
        "    if key in emotion1:\n",
        "      return value\n",
        "    elif key in emotion2:\n",
        "      return value\n",
        "    elif key in emotion3:\n",
        "      return value"
      ],
      "metadata": {
        "id": "Jm4YHgh86S5_"
      },
      "execution_count": 7,
      "outputs": []
    },
    {
      "cell_type": "code",
      "source": [
        "emotions_label = []\n",
        "for i in range(len(raw_audio_1)) :\n",
        "  emotions_label.append(getLabel(raw_audio_1[i], '', ''))\n",
        "for i in range(len(raw_audio_2)) :\n",
        "  emotions_label.append(getLabel('', raw_audio_2[i],''))\n",
        "for i in range(len(raw_audio_3)) :\n",
        "  emotions_label.append(getLabel('', '', raw_audio_3[i]))"
      ],
      "metadata": {
        "id": "QdN8N2Rh6yy2"
      },
      "execution_count": 8,
      "outputs": []
    },
    {
      "cell_type": "markdown",
      "source": [
        "2)Get paths of every audio file"
      ],
      "metadata": {
        "id": "XfZfy4F29ZTh"
      }
    },
    {
      "cell_type": "code",
      "source": [
        "rawData_combine = raw_audio_1 + raw_audio_2 +raw_audio_3\n",
        "file_name = []\n",
        "for i in range(len(rawData_combine)) :\n",
        "  audio = rawData_combine[i]\n",
        "  file_name.append(audio)"
      ],
      "metadata": {
        "id": "H_f2W2paghHJ"
      },
      "execution_count": 9,
      "outputs": []
    },
    {
      "cell_type": "markdown",
      "source": [
        "Problem3\n",
        "\n",
        "Get a dataframe of labels and paths"
      ],
      "metadata": {
        "id": "kwujKDJVlVDf"
      }
    },
    {
      "cell_type": "code",
      "source": [
        "pd_emotion = pd.DataFrame(emotions_label, columns = ['label'])\n",
        "pd_emotion['path'] = file_name"
      ],
      "metadata": {
        "id": "PDQtgdzJfTYf"
      },
      "execution_count": 10,
      "outputs": []
    },
    {
      "cell_type": "markdown",
      "source": [
        "# Second\n",
        "Pre-processing data by the shape of each data wave"
      ],
      "metadata": {
        "id": "nO4f8Nx914A-"
      }
    },
    {
      "cell_type": "markdown",
      "source": [
        "Problem1\n",
        "\n",
        "Display the shape of audio file."
      ],
      "metadata": {
        "id": "CH2YJGdPhrxE"
      }
    },
    {
      "cell_type": "code",
      "source": [
        "# shape of waves in raw_audio_1\n",
        "data_1, sample_rate_1 = librosa.load(pd_emotion['path'].iloc[0])\n",
        "librosa.display.waveplot(data_1,sr = sample_rate_1)\n",
        "# duration of file in raw_audio_1\n",
        "librosa.get_duration(data_1,sample_rate_1)"
      ],
      "metadata": {
        "id": "HI3PVn1c2AaG",
        "colab": {
          "base_uri": "https://localhost:8080/",
          "height": 303
        },
        "outputId": "a7367b0a-1f60-4848-8238-009c6a237d22"
      },
      "execution_count": 11,
      "outputs": [
        {
          "output_type": "execute_result",
          "data": {
            "text/plain": [
              "1.5406349206349206"
            ]
          },
          "metadata": {},
          "execution_count": 11
        },
        {
          "output_type": "display_data",
          "data": {
            "text/plain": [
              "<Figure size 432x288 with 1 Axes>"
            ],
            "image/png": "[encoded data removed]"
          },
          "metadata": {}
        }
      ]
    },
    {
      "cell_type": "code",
      "source": [
        "# shape of waves in raw_audio_2\n",
        "data_2, sample_rate_2 = librosa.load(pd_emotion['path'].iloc[2802])\n",
        "librosa.display.waveplot(data_2,sr = sample_rate_2)\n",
        "librosa.get_duration(data_2,sample_rate_2)"
      ],
      "metadata": {
        "id": "OQafSKMq3t3a",
        "colab": {
          "base_uri": "https://localhost:8080/",
          "height": 303
        },
        "outputId": "2d45674c-9f20-4562-ff2c-e918fa26a0ac"
      },
      "execution_count": 12,
      "outputs": [
        {
          "output_type": "execute_result",
          "data": {
            "text/plain": [
              "3.603628117913832"
            ]
          },
          "metadata": {},
          "execution_count": 12
        },
        {
          "output_type": "display_data",
          "data": {
            "text/plain": [
              "<Figure size 432x288 with 1 Axes>"
            ],
            "image/png": "[encoded data removed]"
          },
          "metadata": {}
        }
      ]
    },
    {
      "cell_type": "markdown",
      "source": [
        "Problem2\n",
        "\n",
        "By the displays above, I can see the second dataset's file has two low decibel parts in the front and end, those doesn't show emotions. So I will trim them."
      ],
      "metadata": {
        "id": "tAKDsz-E-de7"
      }
    },
    {
      "cell_type": "code",
      "source": [
        "# trimmed example\n",
        "y_trimmed, _ = librosa.effects.trim(data_2, top_db = 35)\n",
        "pd.Series(y_trimmed).plot(figsize = (10,5), lw=1,\n",
        "                  title = 'raw audio trimmed example',\n",
        "                  color = color_pal[1])\n",
        "plt.show()\n",
        "librosa.get_duration(y_trimmed,sample_rate_2)"
      ],
      "metadata": {
        "id": "zpyncWUf7_FG",
        "colab": {
          "base_uri": "https://localhost:8080/",
          "height": 356
        },
        "outputId": "d70e1bd4-c888-4527-e796-25ddb735c8db"
      },
      "execution_count": 13,
      "outputs": [
        {
          "output_type": "display_data",
          "data": {
            "text/plain": [
              "<Figure size 720x360 with 1 Axes>"
            ],
            "image/png": "[encoded data removed]"
          },
          "metadata": {}
        },
        {
          "output_type": "execute_result",
          "data": {
            "text/plain": [
              "2.1130158730158732"
            ]
          },
          "metadata": {},
          "execution_count": 13
        }
      ]
    },
    {
      "cell_type": "code",
      "source": [
        "data_2, sample_rate_2 = librosa.load('/content/Actor_18/03-01-08-01-01-01-18.wav')\n",
        "librosa.display.waveplot(data_2,sr = sample_rate_2)\n",
        "librosa.get_duration(data_2,sample_rate_2)"
      ],
      "metadata": {
        "id": "FHvxY812IuE3",
        "colab": {
          "base_uri": "https://localhost:8080/",
          "height": 303
        },
        "outputId": "02cc3d6d-7470-4bb6-aea1-f335ae7bce99"
      },
      "execution_count": 14,
      "outputs": [
        {
          "output_type": "execute_result",
          "data": {
            "text/plain": [
              "3.3700226757369616"
            ]
          },
          "metadata": {},
          "execution_count": 14
        },
        {
          "output_type": "display_data",
          "data": {
            "text/plain": [
              "<Figure size 432x288 with 1 Axes>"
            ],
            "image/png": "[encoded data removed]"
          },
          "metadata": {}
        }
      ]
    },
    {
      "cell_type": "code",
      "source": [
        "y_trimmed, _ = librosa.effects.trim(data_2, top_db = 35)\n",
        "pd.Series(y_trimmed).plot(figsize = (10,5), lw=1,\n",
        "                  title = 'raw audio trimmed example',\n",
        "                  color = color_pal[1])\n",
        "plt.show()"
      ],
      "metadata": {
        "id": "o6NzMDgAI_zB",
        "colab": {
          "base_uri": "https://localhost:8080/",
          "height": 338
        },
        "outputId": "b5d6d5d8-6707-4793-9f2d-abb6b10fe5bf"
      },
      "execution_count": 15,
      "outputs": [
        {
          "output_type": "display_data",
          "data": {
            "text/plain": [
              "<Figure size 720x360 with 1 Axes>"
            ],
            "image/png": "[encoded data removed]"
          },
          "metadata": {}
        }
      ]
    },
    {
      "cell_type": "markdown",
      "source": [
        "Problem4:process .wav files, and extract features for each audio files"
      ],
      "metadata": {
        "id": "_yWl2VXQki6c"
      }
    },
    {
      "cell_type": "code",
      "source": [
        "def extract_feature(data, sample_rate, mfcc, chroma, mel):\n",
        "  if chroma:\n",
        "    stft = np.abs(librosa.stft(data))\n",
        "    result = np.array([])\n",
        "  if mfcc:\n",
        "    mfccs = np.mean(librosa.feature.mfcc(y=data, sr = sample_rate,n_mfcc = 40).T, axis = 0)\n",
        "    result = np.hstack((result,mfccs))\n",
        "  if chroma:\n",
        "    chroma = np.mean(librosa.feature.chroma_stft(S=stft, sr=sample_rate).T,axis=0)\n",
        "  if mel:\n",
        "    mel = np.mean(librosa.feature.melspectrogram(data, sr=sample_rate).T,axis=0)\n",
        "    result = np.hstack((result,mel))\n",
        "  return result"
      ],
      "metadata": {
        "id": "UQX_mQiDl4We"
      },
      "execution_count": 34,
      "outputs": []
    },
    {
      "cell_type": "code",
      "source": [
        "audioArray_1 = []\n",
        "audioArray_2 = []\n",
        "audioArray_3 = []\n",
        "for i in range(len(raw_audio_1)):\n",
        "  data, sample_rate = librosa.load(raw_audio_1[i])\n",
        "  feature_1 = extract_feature(data,sample_rate,mfcc=True, chroma=True, mel=True)\n",
        "  audioArray_1.append(feature_1)\n",
        "\n",
        "for i in range(len(raw_audio_2)):\n",
        "  data, sample_rate = librosa.load(raw_audio_2[i])\n",
        "  y_trimmed, _ = librosa.effects.trim(data, top_db = 35)\n",
        "  if y_trimmed[0] == 0:\n",
        "    print(raw_audio_2[i])\n",
        "  feature_2 = extract_feature(data,sample_rate,mfcc=True, chroma=True, mel=True)\n",
        "  audioArray_2.append(feature_2)\n",
        "\n",
        "for i in range(len(raw_audio_3)):\n",
        "  data, sample_rate = librosa.load(raw_audio_3[i])\n",
        "  y_trimmed, _ = librosa.effects.trim(data, top_db = 35)\n",
        "  if y_trimmed[0] == 0:\n",
        "    print(raw_audio_3[i])\n",
        "  feature_3 = extract_feature(data,sample_rate,mfcc=True, chroma=True, mel=True)\n",
        "  audioArray_3.append(feature_3)"
      ],
      "metadata": {
        "id": "wbXKbKbjLnqS"
      },
      "execution_count": null,
      "outputs": []
    },
    {
      "cell_type": "code",
      "source": [
        "df1 = pd.DataFrame(audioArray_1)\n",
        "df2 = pd.DataFrame(audioArray_2)\n",
        "df3 = pd.DataFrame(audioArray_3)"
      ],
      "metadata": {
        "id": "Cyxn3GeSkBBW"
      },
      "execution_count": null,
      "outputs": []
    },
    {
      "cell_type": "code",
      "source": [
        "frames = [df1, df2, df3]\n",
        "\n",
        "final_df = pd.concat(frames, ignore_index= True)\n",
        "final_df['emotions'] = pd_emotion['label']\n",
        "df = final_df.copy()\n",
        "final_df.to_csv('/content/drive/MyDrive/603 project/Final Data.csv')"
      ],
      "metadata": {
        "id": "KFBqIFZ1o_JK"
      },
      "execution_count": null,
      "outputs": []
    },
    {
      "cell_type": "markdown",
      "source": [
        "Problem: process y label from phrases to numbers"
      ],
      "metadata": {
        "id": "LP4Luv5xiWd9"
      }
    },
    {
      "cell_type": "code",
      "source": [
        "df = df.dropna()"
      ],
      "metadata": {
        "id": "VRM-k1PlrBiH"
      },
      "execution_count": null,
      "outputs": []
    },
    {
      "cell_type": "markdown",
      "source": [
        "Problem6: Determine whether this data is balanced.\n",
        "\n",
        "Conclusion: It's almost balanced, it's not a big deal to train a model."
      ],
      "metadata": {
        "id": "vMY-pZgNh-qI"
      }
    },
    {
      "cell_type": "code",
      "source": [
        "sns.countplot(df['emotions'])"
      ],
      "metadata": {
        "id": "D30h_wH2fvG4"
      },
      "execution_count": null,
      "outputs": []
    },
    {
      "cell_type": "markdown",
      "source": [
        "Problem5: normalize each feature"
      ],
      "metadata": {
        "id": "-fLI6oaYbkYF"
      }
    },
    {
      "cell_type": "code",
      "source": [
        "X = df.drop('emotions', axis = 1)\n",
        "sc = StandardScaler()\n",
        "X = sc.fit_transform(X)"
      ],
      "metadata": {
        "id": "rthP_dzKy8jV"
      },
      "execution_count": null,
      "outputs": []
    },
    {
      "cell_type": "markdown",
      "source": [
        "Problem7: Transfer data format to fit model "
      ],
      "metadata": {
        "id": "_lIrEW46iDPS"
      }
    },
    {
      "cell_type": "code",
      "source": [
        "X = np.asarray(X)"
      ],
      "metadata": {
        "id": "TSRt6L11rj0-"
      },
      "execution_count": 41,
      "outputs": []
    },
    {
      "cell_type": "code",
      "source": [
        "X1 = np.expand_dims(X, -1)\n",
        "# X.shape"
      ],
      "metadata": {
        "id": "AVQ0OKKZt3Wm"
      },
      "execution_count": 42,
      "outputs": []
    },
    {
      "cell_type": "code",
      "source": [
        "ohe = OneHotEncoder()\n",
        "y = ohe.fit_transform(df[['emotions']])\n",
        "y = y.toarray()"
      ],
      "metadata": {
        "id": "Z-Vzq5nPqEIE"
      },
      "execution_count": null,
      "outputs": []
    },
    {
      "cell_type": "markdown",
      "source": [
        "Problem: Show dataframe and Split data"
      ],
      "metadata": {
        "id": "QuVKPQOXkNqF"
      }
    },
    {
      "cell_type": "code",
      "source": [
        "X_train_val, X_test, y_train_val, y_test = train_test_split(X1, y, test_size= 0.2,shuffle=True,  random_state = 10)\n",
        "X_train, val_x, y_train, val_y = train_test_split(X, y, test_size= 0.2, shuffle = True, random_state = 10)\n",
        "# X_train.shape"
      ],
      "metadata": {
        "id": "X8SJrJaOsj_8"
      },
      "execution_count": 43,
      "outputs": []
    },
    {
      "cell_type": "code",
      "source": [
        "# figure out the independence from heatmap\n",
        "new = pd.DataFrame(X)\n",
        "new_corr = new.corr(method = 'pearson')\n",
        "new_corr\n",
        "fig, ax = plt.subplots(figsize=(8,8))\n",
        "im = ax.imshow(new_corr, interpolation = 'nearest')\n",
        "fig.colorbar(im, orientation='vertical', fraction = 0.05)"
      ],
      "metadata": {
        "id": "C6Z0fX3btuyb"
      },
      "execution_count": null,
      "outputs": []
    },
    {
      "cell_type": "markdown",
      "source": [
        "#Third \n",
        "Create LSTM Model"
      ],
      "metadata": {
        "id": "ZHcI-F4gcXdv"
      }
    },
    {
      "cell_type": "code",
      "source": [
        "checkpoint_filepath = '/content/drive/MyDrive/603 project'\n",
        "mdl_save = tf.keras.callbacks.ModelCheckpoint(checkpoint_filepath, verbose=1, monitor='val_loss',save_best_only=True, mode='auto') "
      ],
      "metadata": {
        "id": "fmHzdT7SxY_i"
      },
      "execution_count": 80,
      "outputs": []
    },
    {
      "cell_type": "code",
      "source": [
        "from keras import callbacks\n",
        "model = Sequential([\n",
        "    LSTM(256, return_sequences= False, input_shape = (168,1)),\n",
        "    Dense(128,kernel_initializer='normal' , activation= 'relu'),\n",
        "    Dropout(0.3),\n",
        "    Dense(128, kernel_initializer='normal' ,activation= 'relu'),\n",
        "    Dropout(0.3),\n",
        "    # Dense(64, kernel_initializer='normal' ,activation= 'relu'),\n",
        "    # Dropout(0.3),\n",
        "    Dense(7, activation= 'softmax'),\n",
        "])\n",
        "\n",
        "model.compile(loss = 'categorical_crossentropy', optimizer = tf.keras.optimizers.Adam(learning_rate=0.001), metrics = ['accuracy']) #optimizer =tf.keras.optimizers.Adam(learning_rate=0.001)"
      ],
      "metadata": {
        "id": "7vnq8Yewwq3B"
      },
      "execution_count": 108,
      "outputs": []
    },
    {
      "cell_type": "code",
      "source": [
        "model.build()"
      ],
      "metadata": {
        "id": "oPKcReAnpzdA"
      },
      "execution_count": 85,
      "outputs": []
    },
    {
      "cell_type": "code",
      "source": [
        "model.summary()"
      ],
      "metadata": {
        "id": "DZDv24z2mpPX"
      },
      "execution_count": null,
      "outputs": []
    },
    {
      "cell_type": "code",
      "source": [
        "history = model.fit(X_train, y_train, validation_data=(val_x, val_y), shuffle = True,callbacks=[mdl_save], epochs = 100, batch_size=32)"
      ],
      "metadata": {
        "id": "uEWKt00LxImP"
      },
      "execution_count": null,
      "outputs": []
    },
    {
      "cell_type": "code",
      "source": [
        "from keras import backend as K\n",
        "\n",
        "def recall_m(y_true, y_pred):\n",
        "    true_positives = K.sum(K.round(K.clip(y_true * y_pred, 0, 1)))\n",
        "    possible_positives = K.sum(K.round(K.clip(y_true, 0, 1)))\n",
        "    recall = true_positives / (possible_positives + K.epsilon())\n",
        "    return recall\n",
        "\n",
        "def precision_m(y_true, y_pred):\n",
        "    true_positives = K.sum(K.round(K.clip(y_true * y_pred, 0, 1)))\n",
        "    predicted_positives = K.sum(K.round(K.clip(y_pred, 0, 1)))\n",
        "    precision = true_positives / (predicted_positives + K.epsilon())\n",
        "    return precision\n",
        "\n",
        "def f1_m(y_true, y_pred):\n",
        "    precision = precision_m(y_true, y_pred)\n",
        "    recall = recall_m(y_true, y_pred)\n",
        "    return 2*((precision*recall)/(precision+recall+K.epsilon()))"
      ],
      "metadata": {
        "id": "qKtpsCtr3wMa"
      },
      "execution_count": 112,
      "outputs": []
    },
    {
      "cell_type": "code",
      "source": [
        "y_pred = model.predict(X_test)\n",
        "y_pred = np.argmax(y_pred, axis=1)\n",
        "y_pred"
      ],
      "metadata": {
        "colab": {
          "base_uri": "https://localhost:8080/"
        },
        "id": "dDCMlMST35Ib",
        "outputId": "ad07059a-3a74-4d9a-e2a6-b8a57611cff2"
      },
      "execution_count": 113,
      "outputs": [
        {
          "output_type": "stream",
          "name": "stdout",
          "text": [
            "72/72 [==============================] - 1s 6ms/step\n"
          ]
        },
        {
          "output_type": "execute_result",
          "data": {
            "text/plain": [
              "array([3, 4, 6, ..., 1, 6, 3])"
            ]
          },
          "metadata": {},
          "execution_count": 113
        }
      ]
    },
    {
      "cell_type": "code",
      "source": [
        "y_check = np.argmax(y_test, axis=1)\n",
        "y_check"
      ],
      "metadata": {
        "colab": {
          "base_uri": "https://localhost:8080/"
        },
        "id": "bK8xPATJ36z9",
        "outputId": "a402b4fd-c464-4123-8fcc-2ba4065d0b98"
      },
      "execution_count": 114,
      "outputs": [
        {
          "output_type": "execute_result",
          "data": {
            "text/plain": [
              "array([0, 1, 6, ..., 1, 1, 2])"
            ]
          },
          "metadata": {},
          "execution_count": 114
        }
      ]
    },
    {
      "cell_type": "code",
      "source": [
        "from sklearn.metrics import confusion_matrix\n",
        "\n",
        "cm = confusion_matrix(y_true=y_check, y_pred=y_pred)"
      ],
      "metadata": {
        "id": "Ncm1txWxF6-E"
      },
      "execution_count": 115,
      "outputs": []
    },
    {
      "cell_type": "markdown",
      "source": [
        "matrices"
      ],
      "metadata": {
        "id": "J6WvFQ08BeFs"
      }
    },
    {
      "cell_type": "code",
      "source": [
        "def plot_confusion_matrix(y_true, y_pred, classes,\n",
        "                          normalize=False,\n",
        "                          title=None,\n",
        "                          cmap=plt.cm.Blues):\n",
        "    \"\"\"\n",
        "    This function prints and plots the confusion matrix.\n",
        "    Normalization can be applied by setting `normalize=True`.\n",
        "    \"\"\"\n",
        "    if not title:\n",
        "        if normalize:\n",
        "            title = 'Normalized confusion matrix'\n",
        "        else:\n",
        "            title = 'Confusion matrix, without normalization'\n",
        "\n",
        "    # Compute confusion matrix\n",
        "    cm = confusion_matrix(y_true, y_pred)\n",
        "    # Only use the labels that appear in the data\n",
        "    classes = classes\n",
        "    if normalize:\n",
        "        cm = cm.astype('float') / cm.sum(axis=1)[:, np.newaxis]\n",
        "        #print(\"Normalized confusion matrix\")\n",
        "    #else:\n",
        "        #print('Confusion matrix, without normalization')\n",
        "\n",
        "    #print(cm)\n",
        "\n",
        "    fig, ax = plt.subplots(figsize=(12,6))\n",
        "    im = ax.imshow(cm, interpolation='nearest', cmap=cmap)\n",
        "    ax.figure.colorbar(im, ax=ax)\n",
        "    # We want to show all ticks...\n",
        "    ax.set(xticks=np.arange(cm.shape[1]),\n",
        "           yticks=np.arange(cm.shape[0]),\n",
        "           # ... and label them with the respective list entries\n",
        "           xticklabels=classes, yticklabels=classes,\n",
        "           title=title,\n",
        "           ylabel='True label',\n",
        "           xlabel='Predicted label')\n",
        "\n",
        "    # Rotate the tick labels and set their alignment.\n",
        "    plt.setp(ax.get_xticklabels(), rotation=45, ha=\"right\",\n",
        "             rotation_mode=\"anchor\")\n",
        "\n",
        "    # Loop over data dimensions and create text annotations.\n",
        "    fmt = '.2f' if normalize else 'd'\n",
        "    thresh = cm.max() / 2.\n",
        "    for i in range(cm.shape[0]):\n",
        "        for j in range(cm.shape[1]):\n",
        "            ax.text(j, i, format(cm[i, j], fmt),\n",
        "                    ha=\"center\", va=\"center\",\n",
        "                    color=\"white\" if cm[i, j] > thresh else \"black\")\n",
        "    fig.tight_layout()\n",
        "    return ax"
      ],
      "metadata": {
        "id": "visjlsUHF-Wt"
      },
      "execution_count": 116,
      "outputs": []
    },
    {
      "cell_type": "code",
      "source": [
        "emotion_labels = ['Angry', 'Disgust', 'Fear', 'Happy', 'Sad', 'Surprise', 'Neutral']"
      ],
      "metadata": {
        "id": "UZjhg0fzGAmX"
      },
      "execution_count": 117,
      "outputs": []
    },
    {
      "cell_type": "code",
      "source": [
        "plot_confusion_matrix(y_check, y_pred, emotion_labels, normalize=True, title='Normalized confusion matrix')#emotion_labels,\n",
        "plt.show()"
      ],
      "metadata": {
        "colab": {
          "base_uri": "https://localhost:8080/",
          "height": 437
        },
        "id": "MRSLzou339h0",
        "outputId": "001785ca-476f-4af4-a5c1-df1ca95a1bed"
      },
      "execution_count": 118,
      "outputs": [
        {
          "output_type": "display_data",
          "data": {
            "text/plain": [
              "<Figure size 864x432 with 2 Axes>"
            ],
            "image/png": "[encoded data removed]"
          },
          "metadata": {}
        }
      ]
    },
    {
      "cell_type": "code",
      "source": [
        "def performance(test, pred):\n",
        "  conf_matrix = confusion_matrix(test , pred)\n",
        "  f1 = f1_score(test , pred)\n",
        "  accuracy = balanced_accuracy_score(test, pred)\n",
        "  print('F1 score %s' % f1)\n",
        "  print('Accuracy %s' % accuracy)"
      ],
      "metadata": {
        "id": "vRNF66byBTfm"
      },
      "execution_count": 119,
      "outputs": []
    },
    {
      "cell_type": "code",
      "source": [
        "report = classification_report(y_check, y_pred, output_dict=True)\n",
        "re = pd.DataFrame(report)\n",
        "#'Angry' 'Disgust' 'Fearful' 'Happy' 'Neutral' 'Pleasant_Surprise' 'Sad'\n",
        "re = re.rename(columns={'0': 'Angry', '1': 'Disgust','2': 'Fearful','3': 'Happy','4': 'Neutral','5': 'Pleasant_Surprise','6': 'Sad',})\n",
        "re"
      ],
      "metadata": {
        "colab": {
          "base_uri": "https://localhost:8080/",
          "height": 175
        },
        "id": "_LbreifoEukV",
        "outputId": "53d51f3f-259f-46e2-9f60-efa048fbfb2a"
      },
      "execution_count": 128,
      "outputs": [
        {
          "output_type": "execute_result",
          "data": {
            "text/plain": [
              "                Angry     Disgust     Fearful       Happy     Neutral  \\\n",
              "precision    0.805014    0.727273    0.615686    0.545714    0.390374   \n",
              "recall       0.694712    0.314136    0.431319    0.516216    0.732441   \n",
              "f1-score     0.745806    0.438757    0.507270    0.530556    0.509302   \n",
              "support    416.000000  382.000000  364.000000  370.000000  299.000000   \n",
              "\n",
              "           Pleasant_Surprise         Sad  accuracy    macro avg  weighted avg  \n",
              "precision           0.741379    0.573171  0.584856     0.628373      0.627046  \n",
              "recall              0.811321    0.781163  0.584856     0.611615      0.584856  \n",
              "f1-score            0.774775    0.661196  0.584856     0.595380      0.579596  \n",
              "support           106.000000  361.000000  0.584856  2298.000000   2298.000000  "
            ],
            "text/html": [
              "\n",
              "  <div id=\"df-1479da51-ad95-4308-a53a-a3a7c365e5b9\">\n",
              "    <div class=\"colab-df-container\">\n",
              "      <div>\n",
              "<style scoped>\n",
              "    .dataframe tbody tr th:only-of-type {\n",
              "        vertical-align: middle;\n",
              "    }\n",
              "\n",
              "    .dataframe tbody tr th {\n",
              "        vertical-align: top;\n",
              "    }\n",
              "\n",
              "    .dataframe thead th {\n",
              "        text-align: right;\n",
              "    }\n",
              "</style>\n",
              "<table border=\"1\" class=\"dataframe\">\n",
              "  <thead>\n",
              "    <tr style=\"text-align: right;\">\n",
              "      <th></th>\n",
              "      <th>Angry</th>\n",
              "      <th>Disgust</th>\n",
              "      <th>Fearful</th>\n",
              "      <th>Happy</th>\n",
              "      <th>Neutral</th>\n",
              "      <th>Pleasant_Surprise</th>\n",
              "      <th>Sad</th>\n",
              "      <th>accuracy</th>\n",
              "      <th>macro avg</th>\n",
              "      <th>weighted avg</th>\n",
              "    </tr>\n",
              "  </thead>\n",
              "  <tbody>\n",
              "    <tr>\n",
              "      <th>precision</th>\n",
              "      <td>0.805014</td>\n",
              "      <td>0.727273</td>\n",
              "      <td>0.615686</td>\n",
              "      <td>0.545714</td>\n",
              "      <td>0.390374</td>\n",
              "      <td>0.741379</td>\n",
              "      <td>0.573171</td>\n",
              "      <td>0.584856</td>\n",
              "      <td>0.628373</td>\n",
              "      <td>0.627046</td>\n",
              "    </tr>\n",
              "    <tr>\n",
              "      <th>recall</th>\n",
              "      <td>0.694712</td>\n",
              "      <td>0.314136</td>\n",
              "      <td>0.431319</td>\n",
              "      <td>0.516216</td>\n",
              "      <td>0.732441</td>\n",
              "      <td>0.811321</td>\n",
              "      <td>0.781163</td>\n",
              "      <td>0.584856</td>\n",
              "      <td>0.611615</td>\n",
              "      <td>0.584856</td>\n",
              "    </tr>\n",
              "    <tr>\n",
              "      <th>f1-score</th>\n",
              "      <td>0.745806</td>\n",
              "      <td>0.438757</td>\n",
              "      <td>0.507270</td>\n",
              "      <td>0.530556</td>\n",
              "      <td>0.509302</td>\n",
              "      <td>0.774775</td>\n",
              "      <td>0.661196</td>\n",
              "      <td>0.584856</td>\n",
              "      <td>0.595380</td>\n",
              "      <td>0.579596</td>\n",
              "    </tr>\n",
              "    <tr>\n",
              "      <th>support</th>\n",
              "      <td>416.000000</td>\n",
              "      <td>382.000000</td>\n",
              "      <td>364.000000</td>\n",
              "      <td>370.000000</td>\n",
              "      <td>299.000000</td>\n",
              "      <td>106.000000</td>\n",
              "      <td>361.000000</td>\n",
              "      <td>0.584856</td>\n",
              "      <td>2298.000000</td>\n",
              "      <td>2298.000000</td>\n",
              "    </tr>\n",
              "  </tbody>\n",
              "</table>\n",
              "</div>\n",
              "      <button class=\"colab-df-convert\" onclick=\"convertToInteractive('df-1479da51-ad95-4308-a53a-a3a7c365e5b9')\"\n",
              "              title=\"Convert this dataframe to an interactive table.\"\n",
              "              style=\"display:none;\">\n",
              "        \n",
              "  <svg xmlns=\"http://www.w3.org/2000/svg\" height=\"24px\"viewBox=\"0 0 24 24\"\n",
              "       width=\"24px\">\n",
              "    <path d=\"M0 0h24v24H0V0z\" fill=\"none\"/>\n",
              "    <path d=\"M18.56 5.44l.94 2.06.94-2.06 2.06-.94-2.06-.94-.94-2.06-.94 2.06-2.06.94zm-11 1L8.5 8.5l.94-2.06 2.06-.94-2.06-.94L8.5 2.5l-.94 2.06-2.06.94zm10 10l.94 2.06.94-2.06 2.06-.94-2.06-.94-.94-2.06-.94 2.06-2.06.94z\"/><path d=\"M17.41 7.96l-1.37-1.37c-.4-.4-.92-.59-1.43-.59-.52 0-1.04.2-1.43.59L10.3 9.45l-7.72 7.72c-.78.78-.78 2.05 0 2.83L4 21.41c.39.39.9.59 1.41.59.51 0 1.02-.2 1.41-.59l7.78-7.78 2.81-2.81c.8-.78.8-2.07 0-2.86zM5.41 20L4 18.59l7.72-7.72 1.47 1.35L5.41 20z\"/>\n",
              "  </svg>\n",
              "      </button>\n",
              "      \n",
              "  <style>\n",
              "    .colab-df-container {\n",
              "      display:flex;\n",
              "      flex-wrap:wrap;\n",
              "      gap: 12px;\n",
              "    }\n",
              "\n",
              "    .colab-df-convert {\n",
              "      background-color: #E8F0FE;\n",
              "      border: none;\n",
              "      border-radius: 50%;\n",
              "      cursor: pointer;\n",
              "      display: none;\n",
              "      fill: #1967D2;\n",
              "      height: 32px;\n",
              "      padding: 0 0 0 0;\n",
              "      width: 32px;\n",
              "    }\n",
              "\n",
              "    .colab-df-convert:hover {\n",
              "      background-color: #E2EBFA;\n",
              "      box-shadow: 0px 1px 2px rgba(60, 64, 67, 0.3), 0px 1px 3px 1px rgba(60, 64, 67, 0.15);\n",
              "      fill: #174EA6;\n",
              "    }\n",
              "\n",
              "    [theme=dark] .colab-df-convert {\n",
              "      background-color: #3B4455;\n",
              "      fill: #D2E3FC;\n",
              "    }\n",
              "\n",
              "    [theme=dark] .colab-df-convert:hover {\n",
              "      background-color: #434B5C;\n",
              "      box-shadow: 0px 1px 3px 1px rgba(0, 0, 0, 0.15);\n",
              "      filter: drop-shadow(0px 1px 2px rgba(0, 0, 0, 0.3));\n",
              "      fill: #FFFFFF;\n",
              "    }\n",
              "  </style>\n",
              "\n",
              "      <script>\n",
              "        const buttonEl =\n",
              "          document.querySelector('#df-1479da51-ad95-4308-a53a-a3a7c365e5b9 button.colab-df-convert');\n",
              "        buttonEl.style.display =\n",
              "          google.colab.kernel.accessAllowed ? 'block' : 'none';\n",
              "\n",
              "        async function convertToInteractive(key) {\n",
              "          const element = document.querySelector('#df-1479da51-ad95-4308-a53a-a3a7c365e5b9');\n",
              "          const dataTable =\n",
              "            await google.colab.kernel.invokeFunction('convertToInteractive',\n",
              "                                                     [key], {});\n",
              "          if (!dataTable) return;\n",
              "\n",
              "          const docLinkHtml = 'Like what you see? Visit the ' +\n",
              "            '<a target=\"_blank\" href=https://colab.research.google.com/notebooks/data_table.ipynb>data table notebook</a>'\n",
              "            + ' to learn more about interactive tables.';\n",
              "          element.innerHTML = '';\n",
              "          dataTable['output_type'] = 'display_data';\n",
              "          await google.colab.output.renderOutput(dataTable, element);\n",
              "          const docLink = document.createElement('div');\n",
              "          docLink.innerHTML = docLinkHtml;\n",
              "          element.appendChild(docLink);\n",
              "        }\n",
              "      </script>\n",
              "    </div>\n",
              "  </div>\n",
              "  "
            ]
          },
          "metadata": {},
          "execution_count": 128
        }
      ]
    },
    {
      "cell_type": "code",
      "source": [
        "#plot result of acc\n",
        "epochs = list(range(100))\n",
        "acc = history.history['accuracy']\n",
        "val_acc = history.history['val_accuracy']\n",
        "plt.plot(epochs, acc, label='train accuracy')\n",
        "plt.plot(epochs, val_acc, label='validate accuracy')\n",
        "plt.xlabel('epochs')\n",
        "plt.ylabel('accuracy')\n",
        "plt.legend()\n",
        "plt.show()"
      ],
      "metadata": {
        "id": "kcNtIhOLFCbs",
        "colab": {
          "base_uri": "https://localhost:8080/",
          "height": 285
        },
        "outputId": "59188ac1-948a-4ed5-ff85-2c7328e8ba9a"
      },
      "execution_count": 121,
      "outputs": [
        {
          "output_type": "display_data",
          "data": {
            "text/plain": [
              "<Figure size 432x288 with 1 Axes>"
            ],
            "image/png": "[encoded data removed]"
          },
          "metadata": {}
        }
      ]
    },
    {
      "cell_type": "code",
      "source": [
        "#plot result of loss\n",
        "epochs = list(range(100))\n",
        "loss = history.history['loss']\n",
        "val_loss = history.history['val_loss']\n",
        "plt.plot(epochs, loss, label='train loss')\n",
        "plt.plot(epochs, val_loss, label='validate loss')\n",
        "plt.xlabel('epochs')\n",
        "plt.ylabel('accuracy')\n",
        "plt.legend()\n",
        "plt.show()"
      ],
      "metadata": {
        "id": "UQSDgz-MKBL2",
        "colab": {
          "base_uri": "https://localhost:8080/",
          "height": 285
        },
        "outputId": "46f15b6f-98c5-4b00-f8c7-cbbe1abdb29a"
      },
      "execution_count": 122,
      "outputs": [
        {
          "output_type": "display_data",
          "data": {
            "text/plain": [
              "<Figure size 432x288 with 1 Axes>"
            ],
            "image/png": "[encoded data removed]"
          },
          "metadata": {}
        }
      ]
    }
  ]
}